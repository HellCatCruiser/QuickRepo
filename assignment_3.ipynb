{
  "cells": [
    {
      "cell_type": "markdown",
      "metadata": {
        "id": "view-in-github",
        "colab_type": "text"
      },
      "source": [
        "<a href=\"https://colab.research.google.com/github/HellCatCruiser/QuickRepo/blob/main/assignment_3.ipynb\" target=\"_parent\"><img src=\"https://colab.research.google.com/assets/colab-badge.svg\" alt=\"Open In Colab\"/></a>"
      ]
    },
    {
      "cell_type": "markdown",
      "id": "260a5813",
      "metadata": {
        "id": "260a5813"
      },
      "source": [
        "# Assignment 3: Reinforcement Learning\n",
        "\n",
        "**Goal**: Get familiar with a reinforcement learning approach to solve multi-armed bandit problem.\n",
        "\n",
        "**Please add your shareable Colab link here:** https://colab.research.google.com/drive/1HGFzgdo6-AU_zSRDu0tfxQnXMYrziVTQ?usp=sharing\n",
        "\n",
        "We will implement a value-based reinforcement learning approach with two\n",
        "algorithm variations: epsilon-greedy (e-greedy) and upper confidence bound\n",
        "(UCB) algorithms and perform an analysis on their behavior.\n",
        "\n",
        "Please answer the `Questions` and implement coding `Tasks` by filling **PLEASE FILL IN** sections. *Documentation* of your code is also important. You can find the grading scheme in implementation cells.\n",
        "\n",
        "* Plagiarism is automatically checked and set to **0 points**\n",
        "\n",
        "* It is allowed to learn from external resources but copying is not allowed. If you use any external resource, please cite them in the comments (e.g. `# source: https://...../` (see `fitness_function`))\n",
        "\n",
        "* Use of generative AI to answer **ANY** part of the assignment is\n",
        "**strictly prohibited**, if any part of the assignment is found to be\n",
        "answered using generative AI, the question will be awarded **0 points**.\n",
        "\n",
        "## 1. Introduction: Multi-Armed Bandit Problem\n",
        "\n",
        "Imagine you are in a casino facing a row of slot machines, say there are 20 of them. Each slot machine is providing reward based on a certain probability distribution that is unknown to you.\n",
        "\n",
        "This is your first time in this casino, thus you have no idea what to do next. You have just enough money to play for 100 times and each of these times, you can pick any machine you want and after \"pulling\"\n",
        "\n",
        "What would you do?\n",
        "\n",
        "The overall goal would of course be to find out the one that is providing the most reward, right? What should your algorithm be to get the most reward at the end?\n",
        "\n",
        "## 2. Implementation"
      ]
    },
    {
      "cell_type": "code",
      "execution_count": 1,
      "id": "5db5796e",
      "metadata": {
        "id": "5db5796e",
        "colab": {
          "base_uri": "https://localhost:8080/"
        },
        "collapsed": true,
        "outputId": "6108b2b4-306d-4d60-8775-23d99886063c"
      },
      "outputs": [
        {
          "output_type": "stream",
          "name": "stdout",
          "text": [
            "Requirement already satisfied: matplotlib>=3.7 in /usr/local/lib/python3.11/dist-packages (3.10.0)\n",
            "Requirement already satisfied: numpy>=1.25 in /usr/local/lib/python3.11/dist-packages (2.0.2)\n",
            "Requirement already satisfied: tqdm>=4.65 in /usr/local/lib/python3.11/dist-packages (4.67.1)\n",
            "Requirement already satisfied: ipywidgets in /usr/local/lib/python3.11/dist-packages (7.7.1)\n",
            "Requirement already satisfied: contourpy>=1.0.1 in /usr/local/lib/python3.11/dist-packages (from matplotlib>=3.7) (1.3.2)\n",
            "Requirement already satisfied: cycler>=0.10 in /usr/local/lib/python3.11/dist-packages (from matplotlib>=3.7) (0.12.1)\n",
            "Requirement already satisfied: fonttools>=4.22.0 in /usr/local/lib/python3.11/dist-packages (from matplotlib>=3.7) (4.57.0)\n",
            "Requirement already satisfied: kiwisolver>=1.3.1 in /usr/local/lib/python3.11/dist-packages (from matplotlib>=3.7) (1.4.8)\n",
            "Requirement already satisfied: packaging>=20.0 in /usr/local/lib/python3.11/dist-packages (from matplotlib>=3.7) (24.2)\n",
            "Requirement already satisfied: pillow>=8 in /usr/local/lib/python3.11/dist-packages (from matplotlib>=3.7) (11.2.1)\n",
            "Requirement already satisfied: pyparsing>=2.3.1 in /usr/local/lib/python3.11/dist-packages (from matplotlib>=3.7) (3.2.3)\n",
            "Requirement already satisfied: python-dateutil>=2.7 in /usr/local/lib/python3.11/dist-packages (from matplotlib>=3.7) (2.9.0.post0)\n",
            "Requirement already satisfied: ipykernel>=4.5.1 in /usr/local/lib/python3.11/dist-packages (from ipywidgets) (6.17.1)\n",
            "Requirement already satisfied: ipython-genutils~=0.2.0 in /usr/local/lib/python3.11/dist-packages (from ipywidgets) (0.2.0)\n",
            "Requirement already satisfied: traitlets>=4.3.1 in /usr/local/lib/python3.11/dist-packages (from ipywidgets) (5.7.1)\n",
            "Requirement already satisfied: widgetsnbextension~=3.6.0 in /usr/local/lib/python3.11/dist-packages (from ipywidgets) (3.6.10)\n",
            "Requirement already satisfied: ipython>=4.0.0 in /usr/local/lib/python3.11/dist-packages (from ipywidgets) (7.34.0)\n",
            "Requirement already satisfied: jupyterlab-widgets>=1.0.0 in /usr/local/lib/python3.11/dist-packages (from ipywidgets) (3.0.14)\n",
            "Requirement already satisfied: debugpy>=1.0 in /usr/local/lib/python3.11/dist-packages (from ipykernel>=4.5.1->ipywidgets) (1.8.0)\n",
            "Requirement already satisfied: jupyter-client>=6.1.12 in /usr/local/lib/python3.11/dist-packages (from ipykernel>=4.5.1->ipywidgets) (6.1.12)\n",
            "Requirement already satisfied: matplotlib-inline>=0.1 in /usr/local/lib/python3.11/dist-packages (from ipykernel>=4.5.1->ipywidgets) (0.1.7)\n",
            "Requirement already satisfied: nest-asyncio in /usr/local/lib/python3.11/dist-packages (from ipykernel>=4.5.1->ipywidgets) (1.6.0)\n",
            "Requirement already satisfied: psutil in /usr/local/lib/python3.11/dist-packages (from ipykernel>=4.5.1->ipywidgets) (5.9.5)\n",
            "Requirement already satisfied: pyzmq>=17 in /usr/local/lib/python3.11/dist-packages (from ipykernel>=4.5.1->ipywidgets) (24.0.1)\n",
            "Requirement already satisfied: tornado>=6.1 in /usr/local/lib/python3.11/dist-packages (from ipykernel>=4.5.1->ipywidgets) (6.4.2)\n",
            "Requirement already satisfied: setuptools>=18.5 in /usr/local/lib/python3.11/dist-packages (from ipython>=4.0.0->ipywidgets) (75.2.0)\n",
            "Collecting jedi>=0.16 (from ipython>=4.0.0->ipywidgets)\n",
            "  Downloading jedi-0.19.2-py2.py3-none-any.whl.metadata (22 kB)\n",
            "Requirement already satisfied: decorator in /usr/local/lib/python3.11/dist-packages (from ipython>=4.0.0->ipywidgets) (4.4.2)\n",
            "Requirement already satisfied: pickleshare in /usr/local/lib/python3.11/dist-packages (from ipython>=4.0.0->ipywidgets) (0.7.5)\n",
            "Requirement already satisfied: prompt-toolkit!=3.0.0,!=3.0.1,<3.1.0,>=2.0.0 in /usr/local/lib/python3.11/dist-packages (from ipython>=4.0.0->ipywidgets) (3.0.51)\n",
            "Requirement already satisfied: pygments in /usr/local/lib/python3.11/dist-packages (from ipython>=4.0.0->ipywidgets) (2.19.1)\n",
            "Requirement already satisfied: backcall in /usr/local/lib/python3.11/dist-packages (from ipython>=4.0.0->ipywidgets) (0.2.0)\n",
            "Requirement already satisfied: pexpect>4.3 in /usr/local/lib/python3.11/dist-packages (from ipython>=4.0.0->ipywidgets) (4.9.0)\n",
            "Requirement already satisfied: six>=1.5 in /usr/local/lib/python3.11/dist-packages (from python-dateutil>=2.7->matplotlib>=3.7) (1.17.0)\n",
            "Requirement already satisfied: notebook>=4.4.1 in /usr/local/lib/python3.11/dist-packages (from widgetsnbextension~=3.6.0->ipywidgets) (6.5.7)\n",
            "Requirement already satisfied: parso<0.9.0,>=0.8.4 in /usr/local/lib/python3.11/dist-packages (from jedi>=0.16->ipython>=4.0.0->ipywidgets) (0.8.4)\n",
            "Requirement already satisfied: jupyter-core>=4.6.0 in /usr/local/lib/python3.11/dist-packages (from jupyter-client>=6.1.12->ipykernel>=4.5.1->ipywidgets) (5.7.2)\n",
            "Requirement already satisfied: jinja2 in /usr/local/lib/python3.11/dist-packages (from notebook>=4.4.1->widgetsnbextension~=3.6.0->ipywidgets) (3.1.6)\n",
            "Requirement already satisfied: argon2-cffi in /usr/local/lib/python3.11/dist-packages (from notebook>=4.4.1->widgetsnbextension~=3.6.0->ipywidgets) (23.1.0)\n",
            "Requirement already satisfied: nbformat in /usr/local/lib/python3.11/dist-packages (from notebook>=4.4.1->widgetsnbextension~=3.6.0->ipywidgets) (5.10.4)\n",
            "Requirement already satisfied: nbconvert>=5 in /usr/local/lib/python3.11/dist-packages (from notebook>=4.4.1->widgetsnbextension~=3.6.0->ipywidgets) (7.16.6)\n",
            "Requirement already satisfied: Send2Trash>=1.8.0 in /usr/local/lib/python3.11/dist-packages (from notebook>=4.4.1->widgetsnbextension~=3.6.0->ipywidgets) (1.8.3)\n",
            "Requirement already satisfied: terminado>=0.8.3 in /usr/local/lib/python3.11/dist-packages (from notebook>=4.4.1->widgetsnbextension~=3.6.0->ipywidgets) (0.18.1)\n",
            "Requirement already satisfied: prometheus-client in /usr/local/lib/python3.11/dist-packages (from notebook>=4.4.1->widgetsnbextension~=3.6.0->ipywidgets) (0.21.1)\n",
            "Requirement already satisfied: nbclassic>=0.4.7 in /usr/local/lib/python3.11/dist-packages (from notebook>=4.4.1->widgetsnbextension~=3.6.0->ipywidgets) (1.3.0)\n",
            "Requirement already satisfied: ptyprocess>=0.5 in /usr/local/lib/python3.11/dist-packages (from pexpect>4.3->ipython>=4.0.0->ipywidgets) (0.7.0)\n",
            "Requirement already satisfied: wcwidth in /usr/local/lib/python3.11/dist-packages (from prompt-toolkit!=3.0.0,!=3.0.1,<3.1.0,>=2.0.0->ipython>=4.0.0->ipywidgets) (0.2.13)\n",
            "Requirement already satisfied: platformdirs>=2.5 in /usr/local/lib/python3.11/dist-packages (from jupyter-core>=4.6.0->jupyter-client>=6.1.12->ipykernel>=4.5.1->ipywidgets) (4.3.7)\n",
            "Requirement already satisfied: notebook-shim>=0.2.3 in /usr/local/lib/python3.11/dist-packages (from nbclassic>=0.4.7->notebook>=4.4.1->widgetsnbextension~=3.6.0->ipywidgets) (0.2.4)\n",
            "Requirement already satisfied: beautifulsoup4 in /usr/local/lib/python3.11/dist-packages (from nbconvert>=5->notebook>=4.4.1->widgetsnbextension~=3.6.0->ipywidgets) (4.13.4)\n",
            "Requirement already satisfied: bleach!=5.0.0 in /usr/local/lib/python3.11/dist-packages (from bleach[css]!=5.0.0->nbconvert>=5->notebook>=4.4.1->widgetsnbextension~=3.6.0->ipywidgets) (6.2.0)\n",
            "Requirement already satisfied: defusedxml in /usr/local/lib/python3.11/dist-packages (from nbconvert>=5->notebook>=4.4.1->widgetsnbextension~=3.6.0->ipywidgets) (0.7.1)\n",
            "Requirement already satisfied: jupyterlab-pygments in /usr/local/lib/python3.11/dist-packages (from nbconvert>=5->notebook>=4.4.1->widgetsnbextension~=3.6.0->ipywidgets) (0.3.0)\n",
            "Requirement already satisfied: markupsafe>=2.0 in /usr/local/lib/python3.11/dist-packages (from nbconvert>=5->notebook>=4.4.1->widgetsnbextension~=3.6.0->ipywidgets) (3.0.2)\n",
            "Requirement already satisfied: mistune<4,>=2.0.3 in /usr/local/lib/python3.11/dist-packages (from nbconvert>=5->notebook>=4.4.1->widgetsnbextension~=3.6.0->ipywidgets) (3.1.3)\n",
            "Requirement already satisfied: nbclient>=0.5.0 in /usr/local/lib/python3.11/dist-packages (from nbconvert>=5->notebook>=4.4.1->widgetsnbextension~=3.6.0->ipywidgets) (0.10.2)\n",
            "Requirement already satisfied: pandocfilters>=1.4.1 in /usr/local/lib/python3.11/dist-packages (from nbconvert>=5->notebook>=4.4.1->widgetsnbextension~=3.6.0->ipywidgets) (1.5.1)\n",
            "Requirement already satisfied: fastjsonschema>=2.15 in /usr/local/lib/python3.11/dist-packages (from nbformat->notebook>=4.4.1->widgetsnbextension~=3.6.0->ipywidgets) (2.21.1)\n",
            "Requirement already satisfied: jsonschema>=2.6 in /usr/local/lib/python3.11/dist-packages (from nbformat->notebook>=4.4.1->widgetsnbextension~=3.6.0->ipywidgets) (4.23.0)\n",
            "Requirement already satisfied: argon2-cffi-bindings in /usr/local/lib/python3.11/dist-packages (from argon2-cffi->notebook>=4.4.1->widgetsnbextension~=3.6.0->ipywidgets) (21.2.0)\n",
            "Requirement already satisfied: webencodings in /usr/local/lib/python3.11/dist-packages (from bleach!=5.0.0->bleach[css]!=5.0.0->nbconvert>=5->notebook>=4.4.1->widgetsnbextension~=3.6.0->ipywidgets) (0.5.1)\n",
            "Requirement already satisfied: tinycss2<1.5,>=1.1.0 in /usr/local/lib/python3.11/dist-packages (from bleach[css]!=5.0.0->nbconvert>=5->notebook>=4.4.1->widgetsnbextension~=3.6.0->ipywidgets) (1.4.0)\n",
            "Requirement already satisfied: attrs>=22.2.0 in /usr/local/lib/python3.11/dist-packages (from jsonschema>=2.6->nbformat->notebook>=4.4.1->widgetsnbextension~=3.6.0->ipywidgets) (25.3.0)\n",
            "Requirement already satisfied: jsonschema-specifications>=2023.03.6 in /usr/local/lib/python3.11/dist-packages (from jsonschema>=2.6->nbformat->notebook>=4.4.1->widgetsnbextension~=3.6.0->ipywidgets) (2025.4.1)\n",
            "Requirement already satisfied: referencing>=0.28.4 in /usr/local/lib/python3.11/dist-packages (from jsonschema>=2.6->nbformat->notebook>=4.4.1->widgetsnbextension~=3.6.0->ipywidgets) (0.36.2)\n",
            "Requirement already satisfied: rpds-py>=0.7.1 in /usr/local/lib/python3.11/dist-packages (from jsonschema>=2.6->nbformat->notebook>=4.4.1->widgetsnbextension~=3.6.0->ipywidgets) (0.24.0)\n",
            "Requirement already satisfied: jupyter-server<3,>=1.8 in /usr/local/lib/python3.11/dist-packages (from notebook-shim>=0.2.3->nbclassic>=0.4.7->notebook>=4.4.1->widgetsnbextension~=3.6.0->ipywidgets) (1.16.0)\n",
            "Requirement already satisfied: cffi>=1.0.1 in /usr/local/lib/python3.11/dist-packages (from argon2-cffi-bindings->argon2-cffi->notebook>=4.4.1->widgetsnbextension~=3.6.0->ipywidgets) (1.17.1)\n",
            "Requirement already satisfied: soupsieve>1.2 in /usr/local/lib/python3.11/dist-packages (from beautifulsoup4->nbconvert>=5->notebook>=4.4.1->widgetsnbextension~=3.6.0->ipywidgets) (2.7)\n",
            "Requirement already satisfied: typing-extensions>=4.0.0 in /usr/local/lib/python3.11/dist-packages (from beautifulsoup4->nbconvert>=5->notebook>=4.4.1->widgetsnbextension~=3.6.0->ipywidgets) (4.13.2)\n",
            "Requirement already satisfied: pycparser in /usr/local/lib/python3.11/dist-packages (from cffi>=1.0.1->argon2-cffi-bindings->argon2-cffi->notebook>=4.4.1->widgetsnbextension~=3.6.0->ipywidgets) (2.22)\n",
            "Requirement already satisfied: anyio>=3.1.0 in /usr/local/lib/python3.11/dist-packages (from jupyter-server<3,>=1.8->notebook-shim>=0.2.3->nbclassic>=0.4.7->notebook>=4.4.1->widgetsnbextension~=3.6.0->ipywidgets) (4.9.0)\n",
            "Requirement already satisfied: websocket-client in /usr/local/lib/python3.11/dist-packages (from jupyter-server<3,>=1.8->notebook-shim>=0.2.3->nbclassic>=0.4.7->notebook>=4.4.1->widgetsnbextension~=3.6.0->ipywidgets) (1.8.0)\n",
            "Requirement already satisfied: idna>=2.8 in /usr/local/lib/python3.11/dist-packages (from anyio>=3.1.0->jupyter-server<3,>=1.8->notebook-shim>=0.2.3->nbclassic>=0.4.7->notebook>=4.4.1->widgetsnbextension~=3.6.0->ipywidgets) (3.10)\n",
            "Requirement already satisfied: sniffio>=1.1 in /usr/local/lib/python3.11/dist-packages (from anyio>=3.1.0->jupyter-server<3,>=1.8->notebook-shim>=0.2.3->nbclassic>=0.4.7->notebook>=4.4.1->widgetsnbextension~=3.6.0->ipywidgets) (1.3.1)\n",
            "Downloading jedi-0.19.2-py2.py3-none-any.whl (1.6 MB)\n",
            "\u001b[2K   \u001b[90m━━━━━━━━━━━━━━━━━━━━━━━━━━━━━━━━━━━━━━━━\u001b[0m \u001b[32m1.6/1.6 MB\u001b[0m \u001b[31m7.3 MB/s\u001b[0m eta \u001b[36m0:00:00\u001b[0m\n",
            "\u001b[?25hInstalling collected packages: jedi\n",
            "Successfully installed jedi-0.19.2\n"
          ]
        }
      ],
      "source": [
        "%pip install \"matplotlib>=3.7\" \"numpy>=1.25\" \"tqdm>=4.65\" ipywidgets --user"
      ]
    },
    {
      "cell_type": "code",
      "execution_count": 2,
      "id": "607cd92c",
      "metadata": {
        "id": "607cd92c",
        "colab": {
          "base_uri": "https://localhost:8080/"
        },
        "collapsed": true,
        "outputId": "b35feb6b-0bae-443e-f99e-76b055839430"
      },
      "outputs": [
        {
          "output_type": "stream",
          "name": "stdout",
          "text": [
            "Requirement already satisfied: matplotlib>=3.7 in /usr/local/lib/python3.11/dist-packages (3.10.0)\n",
            "Collecting matplotlib>=3.7\n",
            "  Downloading matplotlib-3.10.1-cp311-cp311-manylinux_2_17_x86_64.manylinux2014_x86_64.whl.metadata (11 kB)\n",
            "Requirement already satisfied: numpy>=1.25 in /usr/local/lib/python3.11/dist-packages (2.0.2)\n",
            "Collecting numpy>=1.25\n",
            "  Downloading numpy-2.2.5-cp311-cp311-manylinux_2_17_x86_64.manylinux2014_x86_64.whl.metadata (62 kB)\n",
            "\u001b[2K     \u001b[90m━━━━━━━━━━━━━━━━━━━━━━━━━━━━━━━━━━━━━━━━\u001b[0m \u001b[32m62.0/62.0 kB\u001b[0m \u001b[31m1.2 MB/s\u001b[0m eta \u001b[36m0:00:00\u001b[0m\n",
            "\u001b[?25hRequirement already satisfied: tqdm>=4.65 in /usr/local/lib/python3.11/dist-packages (4.67.1)\n",
            "Requirement already satisfied: contourpy>=1.0.1 in /usr/local/lib/python3.11/dist-packages (from matplotlib>=3.7) (1.3.2)\n",
            "Requirement already satisfied: cycler>=0.10 in /usr/local/lib/python3.11/dist-packages (from matplotlib>=3.7) (0.12.1)\n",
            "Requirement already satisfied: fonttools>=4.22.0 in /usr/local/lib/python3.11/dist-packages (from matplotlib>=3.7) (4.57.0)\n",
            "Requirement already satisfied: kiwisolver>=1.3.1 in /usr/local/lib/python3.11/dist-packages (from matplotlib>=3.7) (1.4.8)\n",
            "Requirement already satisfied: packaging>=20.0 in /usr/local/lib/python3.11/dist-packages (from matplotlib>=3.7) (24.2)\n",
            "Requirement already satisfied: pillow>=8 in /usr/local/lib/python3.11/dist-packages (from matplotlib>=3.7) (11.2.1)\n",
            "Requirement already satisfied: pyparsing>=2.3.1 in /usr/local/lib/python3.11/dist-packages (from matplotlib>=3.7) (3.2.3)\n",
            "Requirement already satisfied: python-dateutil>=2.7 in /usr/local/lib/python3.11/dist-packages (from matplotlib>=3.7) (2.9.0.post0)\n",
            "Requirement already satisfied: six>=1.5 in /usr/local/lib/python3.11/dist-packages (from python-dateutil>=2.7->matplotlib>=3.7) (1.17.0)\n",
            "Downloading matplotlib-3.10.1-cp311-cp311-manylinux_2_17_x86_64.manylinux2014_x86_64.whl (8.6 MB)\n",
            "\u001b[2K   \u001b[90m━━━━━━━━━━━━━━━━━━━━━━━━━━━━━━━━━━━━━━━━\u001b[0m \u001b[32m8.6/8.6 MB\u001b[0m \u001b[31m35.8 MB/s\u001b[0m eta \u001b[36m0:00:00\u001b[0m\n",
            "\u001b[?25hDownloading numpy-2.2.5-cp311-cp311-manylinux_2_17_x86_64.manylinux2014_x86_64.whl (16.4 MB)\n",
            "\u001b[2K   \u001b[90m━━━━━━━━━━━━━━━━━━━━━━━━━━━━━━━━━━━━━━━━\u001b[0m \u001b[32m16.4/16.4 MB\u001b[0m \u001b[31m31.8 MB/s\u001b[0m eta \u001b[36m0:00:00\u001b[0m\n",
            "\u001b[?25hInstalling collected packages: numpy, matplotlib\n",
            "\u001b[33m  WARNING: The scripts f2py and numpy-config are installed in '/root/.local/bin' which is not on PATH.\n",
            "  Consider adding this directory to PATH or, if you prefer to suppress this warning, use --no-warn-script-location.\u001b[0m\u001b[33m\n",
            "\u001b[0m\u001b[31mERROR: pip's dependency resolver does not currently take into account all the packages that are installed. This behaviour is the source of the following dependency conflicts.\n",
            "tensorflow 2.18.0 requires numpy<2.1.0,>=1.26.0, but you have numpy 2.2.5 which is incompatible.\n",
            "numba 0.60.0 requires numpy<2.1,>=1.22, but you have numpy 2.2.5 which is incompatible.\u001b[0m\u001b[31m\n",
            "\u001b[0mSuccessfully installed matplotlib-3.10.1 numpy-2.2.5\n"
          ]
        }
      ],
      "source": [
        "%pip install \"matplotlib>=3.7\" \"numpy>=1.25\" \"tqdm>=4.65\" --upgrade --user"
      ]
    },
    {
      "cell_type": "code",
      "execution_count": 3,
      "id": "37d75212-c7e5-4f0c-a30e-10cc9f6c6716",
      "metadata": {
        "id": "37d75212-c7e5-4f0c-a30e-10cc9f6c6716"
      },
      "outputs": [],
      "source": [
        "%matplotlib inline"
      ]
    },
    {
      "cell_type": "code",
      "execution_count": 4,
      "id": "be368412",
      "metadata": {
        "id": "be368412"
      },
      "outputs": [],
      "source": [
        "# First import the dependencies\n",
        "import matplotlib.pyplot as plt\n",
        "import numpy as np\n",
        "from tqdm.notebook import trange"
      ]
    },
    {
      "cell_type": "markdown",
      "id": "917dc7d5",
      "metadata": {
        "id": "917dc7d5"
      },
      "source": [
        "**Question 1 (0-0.25-0.5pt):** Please write down mathematical expressions arm selection for the e-greedy and UCB algorithms and discuss their parameters.\n",
        "\n",
        "**Answer:**\n",
        "\n",
        "taken from chapter 2 in https://archive.org/details/rlbook2018/page/n47/mode/2up\n",
        "Reinforcement Learning: An Introduction by Andrew Barto and Richard S. Sutton\n",
        "\n",
        "1.\n",
        "$\\varepsilon$-greedy algorithm:\n",
        "\n",
        "arm selection rule =\n",
        "at time step $t$ select arm $a_t$ as:\n",
        "\n",
        "$a_t =\n",
        " \\begin{cases}\n",
        " arg\\ max_a\\ Q_t(a), \\qquad \\qquad \\quad \\quad with\\ probability\\ 1 - \\varepsilon\\ (breaking\\ ties\\ randomly) \\\\\n",
        " random\\ arm\\ a\\ \\epsilon\\ \\{1,...,K\\}, \\quad with\\ probability\\ \\varepsilon\n",
        " \\end{cases}$\n",
        "\n",
        "Where: \\\\\n",
        "- K is total number of arms\n",
        "- $Q_t(a)$: the estimated value of arm(action) $a$ at timestep $t$\n",
        "- $\\varepsilon\\ \\epsilon\\ [0, 1]$: exploration rate - the probability of choosing  a random arm.\n",
        "Params:\\\\\n",
        "$\\varepsilon$: Controls the trade-off between exploration and exploitation. The choice between a new or less-certain arm versus the best-known arm.\n",
        "- High $\\varepsilon $ -> more exploration\n",
        "- low $\\varepsilon $ -> more exploitation\n",
        "- can be either a constant or decay over time can be applied.\n",
        "\n",
        "2. UCB(Upper Confidence Bound)\n",
        "Arm selection rule:\n",
        "\n",
        "$\n",
        "a_t = arg\\ ̱max_{a}[Q_t(a) + c\\sqrt\\frac{\\ln\\ t}{N_t(a)}]\n",
        "$\n",
        "\n",
        "where: \\\\\n",
        "$Q_t(a)$: the estimated value of arm(action) $a$ at timestep $t$ \\\\\n",
        "$N_a(t)$: number of times arm $a$ has been selected up to time t. \\\\\n",
        "t: current timestep \\\\\n",
        "$c > 0$: exploration constant\n",
        "\n",
        "Params: \\\\\n",
        "c: controls the exploration bonus, with a larger c encouraging more exploration by increasing the width of the interval.\n",
        "ln (t): logarithmic growth ensures that the exploration bonus diminishes slowly over time\n",
        "Inverse Na(t): arms with fewer pulls have larger bonuses.\n",
        "\n",
        "Conclusion: \\\\\n",
        "$\\varepsilon$-greedy method explores by randomly selecting an action with a small probability, while UCB explores deterministically by consistently favouring actions arms that have been sampled less, using a confidence-based bonus to guide exploration.\n",
        "\n",
        "\n",
        "---\n",
        "\n",
        "**Task 1 (3 pt):** Please implement the e-greedy and UCB algorithms in the code given below."
      ]
    },
    {
      "cell_type": "code",
      "execution_count": 71,
      "id": "2a0692b0",
      "metadata": {
        "editable": true,
        "lines_to_end_of_cell_marker": 2,
        "tags": [],
        "id": "2a0692b0"
      },
      "outputs": [],
      "source": [
        "#################################\n",
        "# Grading\n",
        "# 0 pts if the code does not work, code works but it is fundamentally incorrect\n",
        "# 0.75 pts if the code works but some functions are incorrect and it is badly explained\n",
        "# 1.5 pts if the code works but some functions are incorrect but it is explained well\n",
        "# 2.25 pts if the code works very well aligned with the task without any mistakes, but it is badly explained\n",
        "# 3 pts if the code works very well aligned with the task without any mistakes, and it is well explained\n",
        "################################################################\n",
        "\n",
        "\n",
        "# ============ PLEASE DO NOT CHANGE ============ #\n",
        "\n",
        "\n",
        "def initialize(n_arms):\n",
        "    rng = np.random.default_rng()\n",
        "    R = rng.uniform(low=0.45, high=0.55, size=n_arms)\n",
        "    R[rng.integers(n_arms)] = 0.9\n",
        "    # return actual mean of the reward probabilities\n",
        "    return R\n",
        "\n",
        "\n",
        "# ================================================ #\n",
        "\n",
        "\n",
        "# the epsilon-greedy algorithm (ignore kwargs)\n",
        "def e_greedy(Q, epsilon, **kwargs):\n",
        "    ########### PLEASE FILL IN ##############\n",
        "    if rng.random() < epsilon:\n",
        "        selection = rng.integers(n_arms) # select new arm\n",
        "    else:\n",
        "        selection = np.argmax(Q) # selects the best out of availlable arms in Q\n",
        "    #########################################\n",
        "    return selection\n",
        "\n",
        "\n",
        "# The upper confidence bound algorithm (ignore kwargs)\n",
        "def UCB(Q, selection_counter, t, **kwargs):\n",
        "    C = 0.5  # Parameter (keep it constant)\n",
        "    ########### PLEASE FILL IN ##############\n",
        "    safe_counter = np.where(selection_Counter == 0, 1e-10, selection_counter) # prevent undefined zero division, https://numpy.org/doc/stable/reference/generated/numpy.where.html#numpy.where.\n",
        "    selection = np.argmax(Q + C * np.sqrt(np.log(t) /  safe_counter)) # implementation of the funciton\n",
        "    #########################################\n",
        "    return selection\n",
        "\n",
        "def MAB(\n",
        "    trials,  # total number of arm pulls\n",
        "    n_arms,  # number of arms to pull\n",
        "    epsilon,  # exploration parameter for the epsilon-greedy algorithm\n",
        "    alpha,  # learning rate for updating Q-values\n",
        "    init,  # initial starting value of the Q-values\n",
        "    algorithm,  # the type of update: e_greedy or UCB\n",
        "):\n",
        "    # ============ PLEASE DO NOT CHANGE ============ #\n",
        "    # initialization of the reward distributions unknown to the player\n",
        "    R = initialize(n_arms)\n",
        "    cumulative_reward_trend = np.zeros(trials)\n",
        "    selection_trend = np.zeros(trials)\n",
        "    reward_trend = np.zeros(trials)\n",
        "    cumulative_reward = 0\n",
        "\n",
        "    # initialize counter of selection for each arms\n",
        "    selection_counter = np.zeros(n_arms)\n",
        "\n",
        "    # initialize initial estimates of rewards\n",
        "    Q = np.ones(n_arms) * init\n",
        "    # ================================================ #\n",
        "\n",
        "    for i in trange(trials, leave=False):\n",
        "        # ============ PLEASE DO NOT CHANGE ============ #\n",
        "        # select an arm to pull based on reward estimates and other\n",
        "        kwargs = {\n",
        "            \"Q\": Q,\n",
        "            \"epsilon\": epsilon,\n",
        "            \"selection_counter\": selection_counter,\n",
        "            \"t\": i,\n",
        "        }\n",
        "        selection = algorithm(**kwargs)\n",
        "        reward = np.random.normal(R[selection], 0.01)\n",
        "        # ================================================ #\n",
        "\n",
        "        ########### PLEASE FILL IN ##############\n",
        "        # Update Q values\n",
        "        # Q ?\n",
        "        ########################################\n",
        "\n",
        "        # ============ PLEASE DO NOT CHANGE ============ #\n",
        "        reward_trend[i] = reward\n",
        "        selection_trend[i] = selection\n",
        "        selection_counter[selection] += 1\n",
        "        cumulative_reward += reward\n",
        "        cumulative_reward_trend[i] = cumulative_reward\n",
        "        # ================================================ #\n",
        "\n",
        "    return reward_trend"
      ]
    },
    {
      "cell_type": "markdown",
      "id": "0b895d4e",
      "metadata": {
        "id": "0b895d4e"
      },
      "source": [
        "**Question 2 (0-0.25-0.5pt):** Please explain the concept of exploration and exploitation in the context epsilon-greedy and UCB algorithm contexts.\n",
        "How does the epsilon-greedy algorithm balance exploration and exploitation?\n",
        "\n",
        "\n",
        "**Answer:** PLEASE FILL IN\n",
        "\n",
        "---\n",
        "\n",
        "## 3. Algorithm Analysis"
      ]
    },
    {
      "cell_type": "code",
      "execution_count": null,
      "id": "2d3ddc2b",
      "metadata": {
        "id": "2d3ddc2b"
      },
      "outputs": [],
      "source": [
        "# ============ PLEASE DO NOT REMOVE ============ #\n",
        "def plot_experiments(experiment1, experiment2, labels):\n",
        "    experiment1 = np.array(experiment1)\n",
        "    experiment1_std = np.std(experiment1, axis=0)\n",
        "    experiment1_mean = np.mean(experiment1, axis=0)\n",
        "\n",
        "    experiment2 = np.array(experiment2)\n",
        "    experiment2_std = np.std(experiment2, axis=0)\n",
        "    experiment2_mean = np.mean(experiment2, axis=0)\n",
        "\n",
        "    mean = [experiment1_mean, experiment2_mean]\n",
        "    std = [experiment1_std, experiment2_std]\n",
        "\n",
        "    plt.figure(figsize=(12, 6))\n",
        "    y_values = np.arange(0, len(mean[0]))\n",
        "    for i in range(len(mean)):\n",
        "        plt.plot(y_values, mean[i], label=labels[i])\n",
        "        plt.fill_between(y_values, mean[i] + std[i], mean[i] - std[i], alpha=0.2)\n",
        "\n",
        "    plt.xlabel(\"Arm pulls (trials)\")\n",
        "    plt.ylabel(\"Average reward of 20 runs\")\n",
        "\n",
        "    plt.legend()\n",
        "\n",
        "\n",
        "# ================================================ #"
      ]
    },
    {
      "cell_type": "markdown",
      "id": "df01fed7",
      "metadata": {
        "id": "df01fed7"
      },
      "source": [
        "## 2. Comparison of e-greedy and UCB algorithms\n",
        "\n",
        "Running the code below will launch all the experiments that we would like to plot and perform analysis on."
      ]
    },
    {
      "cell_type": "code",
      "execution_count": null,
      "id": "9dad642a",
      "metadata": {
        "id": "9dad642a"
      },
      "outputs": [],
      "source": [
        "experiment1 = []  # epsilon greedy epsilon: 0.1 initial Q: 0\n",
        "experiment2 = []  # epsilon greedy epsilon: 0.1 initial Q: 1\n",
        "experiment3 = []  # epsilon greedy epsilon: 0.2 initial Q: 0\n",
        "\n",
        "experiment4 = []  # UCB initial Q: 0\n",
        "experiment5 = []  # UCB initial Q: 1\n",
        "\n",
        "for _ in trange(20):\n",
        "    # MAB(trials, n_arms, epsilon, alpha, init, algorithm)\n",
        "    experiment1.append(MAB(5_000, 20, 0.1, 0.1, 0, e_greedy))\n",
        "    experiment2.append(MAB(5_000, 20, 0.1, 0.1, 1, e_greedy))\n",
        "    experiment3.append(MAB(5_000, 20, 0.2, 0.1, 0, e_greedy))\n",
        "\n",
        "    experiment4.append(MAB(5_000, 20, 0.1, 0.1, 0, UCB))\n",
        "    experiment5.append(MAB(5_000, 20, 0.1, 0.1, 1, UCB))"
      ]
    },
    {
      "cell_type": "markdown",
      "id": "2e9ef4ad",
      "metadata": {
        "id": "2e9ef4ad"
      },
      "source": [
        "---\n",
        "**Question 3 (0-0.5-1pt):** Plot and compare the average rewards for e-greedy and UCB algorithms for initial Q: 0 in different period of the process.\n",
        "\n",
        "Please discuss in each phase of the process, which algorithm worked better and why?\n",
        "\n",
        "**Answer:** PLEASE FILL IN"
      ]
    },
    {
      "cell_type": "code",
      "execution_count": null,
      "id": "00f89e6e",
      "metadata": {
        "id": "00f89e6e"
      },
      "outputs": [],
      "source": [
        "label = [\"e_greedy initial Q: 0\", \"UCB initial Q: 0\"]\n",
        "plot_experiments(\n",
        "    ########### PLEASE FILL IN ##############\n",
        "    # arg1,\n",
        "    # arg2,\n",
        "    ########################################\n",
        "    label,\n",
        ")"
      ]
    },
    {
      "cell_type": "markdown",
      "id": "0370340a",
      "metadata": {
        "id": "0370340a"
      },
      "source": [
        "---\n",
        "**Question 4 (0-0.5-1pt):** Plot and compare the average rewards for e-greedy and UCB algorithms for initial Q: 1 in different period of the process.\n",
        "\n",
        "Please discuss in each phase of the process, which algorithm worked better and why?\n",
        "\n",
        "**Answer:** PLEASE FILL IN"
      ]
    },
    {
      "cell_type": "code",
      "execution_count": null,
      "id": "b9b5b199",
      "metadata": {
        "id": "b9b5b199"
      },
      "outputs": [],
      "source": [
        "label = [\"e_greedy initial Q: 1\", \"UCB initial Q: 1\"]\n",
        "plot_experiments(\n",
        "    ########### PLEASE FILL IN ##############\n",
        "    # arg1,\n",
        "    # arg2,\n",
        "    ########################################\n",
        "    label,\n",
        ")"
      ]
    },
    {
      "cell_type": "markdown",
      "id": "0691eaa8",
      "metadata": {
        "id": "0691eaa8"
      },
      "source": [
        "---\n",
        "**Question 5 (0-0.5-1pt):** Plot and compare the average rewards for e-greedy for initial Q: 0 for epsilon values 0.1 and 0.2 in different period of the process.\n",
        "\n",
        "Please discuss in each phase of the process, which algorithm worked better and why?\n",
        "\n",
        "**Answer:** PLEASE FILL IN"
      ]
    },
    {
      "cell_type": "code",
      "execution_count": null,
      "id": "404fd69b",
      "metadata": {
        "id": "404fd69b"
      },
      "outputs": [],
      "source": [
        "label = [\"e_greedy epsilon: 0.1\", \"e_greedy epsilon: 0.2\"]\n",
        "plot_experiments(\n",
        "    ########### PLEASE FILL IN ##############\n",
        "    # arg1,\n",
        "    # arg2,\n",
        "    ########################################\n",
        "    label,\n",
        ")"
      ]
    },
    {
      "cell_type": "markdown",
      "id": "8da3866d",
      "metadata": {
        "id": "8da3866d"
      },
      "source": [
        "---\n",
        "**Question 6 (0-0.5-1pt):** Plot and compare the average rewards for e-greedy for epsilon = 0.1 initial Q: 0 and 1 in different period of the process.\n",
        "\n",
        "Please discuss in each phase of the process, which algorithm worked better and why?\n",
        "\n",
        "**Answer:** PLEASE FILL IN"
      ]
    },
    {
      "cell_type": "code",
      "execution_count": null,
      "id": "bf7ea2c5",
      "metadata": {
        "id": "bf7ea2c5"
      },
      "outputs": [],
      "source": [
        "label = [\"e_greedy initial Q: 0\", \"e_greedy initial Q: 1\"]\n",
        "plot_experiments(\n",
        "    ########### PLEASE FILL IN ##############\n",
        "    # arg1,\n",
        "    # arg2,\n",
        "    ########################################\n",
        "    label,\n",
        ")"
      ]
    },
    {
      "cell_type": "markdown",
      "id": "1f0256f6",
      "metadata": {
        "id": "1f0256f6"
      },
      "source": [
        "---\n",
        "**Question 7 (0-0.5-1pt):** Plot and compare the average rewards for UCB initial Q: 0 and 1 in different period of the process.\n",
        "\n",
        "Please discuss in each phase of the process, which algorithm worked better and why?\n",
        "\n",
        "**Answer:** PLEASE FILL IN"
      ]
    },
    {
      "cell_type": "code",
      "execution_count": null,
      "id": "f9024eb4",
      "metadata": {
        "id": "f9024eb4"
      },
      "outputs": [],
      "source": [
        "label = [\"UCB initial Q: 0\", \"UCB initial Q: 1\"]\n",
        "plot_experiments(\n",
        "    ########### PLEASE FILL IN ##############\n",
        "    # arg1,\n",
        "    # arg2,\n",
        "    ########################################\n",
        "    label,\n",
        ")"
      ]
    },
    {
      "cell_type": "markdown",
      "id": "579ede8c",
      "metadata": {
        "id": "579ede8c"
      },
      "source": [
        "---\n",
        "\n",
        "## 3. Final remarks\n",
        "\n",
        "**Question 8 (0-0.5-1pt):** Based on the all plots and analysis, please plot the best and worst performing algorithms and discuss the comparison? Discuss why that may be the case.\n",
        "\n",
        "**Answer:** PLEASE FILL IN"
      ]
    },
    {
      "cell_type": "code",
      "execution_count": null,
      "id": "26d2b57b",
      "metadata": {
        "id": "26d2b57b"
      },
      "outputs": [],
      "source": [
        "# PLOT THE BEST AND WORST PERFORMING ALGORITHMS AND COMPARE\n",
        "label = [\n",
        "    ########### PLEASE FILL IN ##############\n",
        "    # label_1,\n",
        "    # label_2,\n",
        "    ########################################\n",
        "]\n",
        "plot_experiments(\n",
        "    ########### PLEASE FILL IN ##############\n",
        "    # arg1,\n",
        "    # arg2,\n",
        "    ########################################\n",
        "    label,\n",
        ")"
      ]
    }
  ],
  "metadata": {
    "kernelspec": {
      "display_name": "Python 3 (ipykernel)",
      "language": "python",
      "name": "python3"
    },
    "language_info": {
      "codemirror_mode": {
        "name": "ipython",
        "version": 3
      },
      "file_extension": ".py",
      "mimetype": "text/x-python",
      "name": "python",
      "nbconvert_exporter": "python",
      "pygments_lexer": "ipython3",
      "version": "3.11.9"
    },
    "toc-autonumbering": false,
    "colab": {
      "provenance": [],
      "include_colab_link": true
    }
  },
  "nbformat": 4,
  "nbformat_minor": 5
}